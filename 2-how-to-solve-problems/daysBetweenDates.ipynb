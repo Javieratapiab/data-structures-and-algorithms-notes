{
 "cells": [
  {
   "cell_type": "markdown",
   "metadata": {},
   "source": [
    "# Days Between Dates\n",
    "\n",
    "This lesson will focus on one problem: calculating the number of days between two dates. \n",
    "\n",
    "This workspace is yours to use in whatever way is helpful. You might want to keep it open in a second tab as you go through the videos. "
   ]
  },
  {
   "cell_type": "code",
   "execution_count": 3,
   "metadata": {},
   "outputs": [
    {
     "name": "stdout",
     "output_type": "stream",
     "text": [
      "0\n",
      "1\n",
      "None\n",
      "365\n",
      "367\n"
     ]
    }
   ],
   "source": [
    "def daysBetweenDates(year1, month1, day1, year2, month2, day2):\n",
    "    \"\"\"\n",
    "    Calculates the number of days between two dates.\n",
    "    \"\"\"\n",
    "    years_diff = (year2 - year1) * 365\n",
    "    months_diff = (month2 - month1) * 30\n",
    "    days_diff = (day2 - day1)\n",
    "\n",
    "    total_diff = years_diff + months_diff + days_diff\n",
    "\n",
    "    # Invalid input\n",
    "    if total_diff < 0:\n",
    "        return None\n",
    "    else:\n",
    "        return total_diff\n",
    "\n",
    "def testDaysBetweenDates():\n",
    "    # test same day\n",
    "    assert(daysBetweenDates(2017, 12, 30,\n",
    "                              2017, 12, 30) == 0)\n",
    "    # test adjacent days\n",
    "    assert(daysBetweenDates(2017, 12, 30, \n",
    "                              2017, 12, 31) == 1)\n",
    "    # test new year\n",
    "    assert(daysBetweenDates(2017, 12, 30, \n",
    "                              2018, 1,  1)  == 2)\n",
    "    # test full year difference\n",
    "    assert(daysBetweenDates(2012, 6, 29,\n",
    "                              2013, 6, 29)  == 365)\n",
    "    \n",
    "    print(\"Congratulations! Your daysBetweenDates\")\n",
    "    print(\"function is working correctly!\")\n",
    "    \n",
    "# testDaysBetweenDates()\n",
    "\n",
    "print(daysBetweenDates(2012, 12, 7, 2012, 12, 7))  # 0\n",
    "print(daysBetweenDates(2012, 12, 7, 2012, 12, 8))  # 1\n",
    "print(daysBetweenDates(2012, 12, 8, 2012, 12, 7))  # None, invalid input\n",
    "print(daysBetweenDates(2012, 6, 29, 2013, 6, 29))  # 365\n",
    "print(daysBetweenDates(2012, 6, 29, 2013, 6, 31))  # None, there is no June 31"
   ]
  },
  {
   "cell_type": "code",
   "execution_count": 3,
   "metadata": {
    "collapsed": true
   },
   "outputs": [],
   "source": []
  }
 ],
 "metadata": {
  "kernelspec": {
   "display_name": "PyCharm (data-structures-and-algorithms-udacity)",
   "language": "python",
   "name": "pycharm-9b45c505"
  },
  "language_info": {
   "codemirror_mode": {
    "name": "ipython",
    "version": 3
   },
   "file_extension": ".py",
   "mimetype": "text/x-python",
   "name": "python",
   "nbconvert_exporter": "python",
   "pygments_lexer": "ipython3",
   "version": "3.8.2"
  }
 },
 "nbformat": 4,
 "nbformat_minor": 2
}