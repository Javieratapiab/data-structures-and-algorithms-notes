{
 "cells": [
  {
   "cell_type": "markdown",
   "metadata": {},
   "source": [
    "# Days Between Dates\n",
    "\n",
    "This lesson will focus on one problem: calculating the number of days between two dates. \n",
    "\n",
    "This workspace is yours to use in whatever way is helpful. You might want to keep it open in a second tab as you go through the videos. "
   ]
  },
  {
   "cell_type": "code",
   "execution_count": 15,
   "metadata": {},
   "outputs": [
    {
     "ename": "AssertionError",
     "evalue": "",
     "output_type": "error",
     "traceback": [
      "\u001B[0;31m---------------------------------------------------------------------------\u001B[0m",
      "\u001B[0;31mAssertionError\u001B[0m                            Traceback (most recent call last)",
      "\u001B[0;32m<ipython-input-15-6ffeeec1a482>\u001B[0m in \u001B[0;36m<module>\u001B[0;34m\u001B[0m\n\u001B[1;32m     50\u001B[0m \u001B[0;34m\u001B[0m\u001B[0m\n\u001B[1;32m     51\u001B[0m \u001B[0;31m# Given test cases\u001B[0m\u001B[0;34m\u001B[0m\u001B[0;34m\u001B[0m\u001B[0;34m\u001B[0m\u001B[0m\n\u001B[0;32m---> 52\u001B[0;31m \u001B[0mtestDaysBetweenDates\u001B[0m\u001B[0;34m(\u001B[0m\u001B[0;34m)\u001B[0m\u001B[0;34m\u001B[0m\u001B[0;34m\u001B[0m\u001B[0m\n\u001B[0m\u001B[1;32m     53\u001B[0m \u001B[0;34m\u001B[0m\u001B[0m\n",
      "\u001B[0;32m<ipython-input-15-6ffeeec1a482>\u001B[0m in \u001B[0;36mtestDaysBetweenDates\u001B[0;34m()\u001B[0m\n\u001B[1;32m     40\u001B[0m                               2017, 12, 31) == 1)\n\u001B[1;32m     41\u001B[0m     \u001B[0;31m# test new year\u001B[0m\u001B[0;34m\u001B[0m\u001B[0;34m\u001B[0m\u001B[0;34m\u001B[0m\u001B[0m\n\u001B[0;32m---> 42\u001B[0;31m     assert(daysBetweenDates(2017, 12, 30, \n\u001B[0m\u001B[1;32m     43\u001B[0m                               2018, 1,  1)  == 2)\n\u001B[1;32m     44\u001B[0m     \u001B[0;31m# test full year difference\u001B[0m\u001B[0;34m\u001B[0m\u001B[0;34m\u001B[0m\u001B[0;34m\u001B[0m\u001B[0m\n",
      "\u001B[0;31mAssertionError\u001B[0m: "
     ]
    }
   ],
   "source": [
    "def nextDay(year, month, day):\n",
    "    \"\"\"Warning: this version incorrectly\n",
    "    assumes all months have 30 days!\"\"\"\n",
    "    if day < 30:\n",
    "        return year, month, day + 1\n",
    "    else:\n",
    "        if month < 12:\n",
    "            return year, month + 1, 1\n",
    "        else:\n",
    "            return year + 1, 1, 1\n",
    "\n",
    "\n",
    "def dateIsBefore(year1, month1, day1, year2, month2, day2):\n",
    "    \"\"\"Returns True if year1-month1-day1 is before\n",
    "    year2-month2-day2. Otherwise, returns False.\"\"\"\n",
    "    if year1 < year2:\n",
    "        return True\n",
    "    if year1 == year2:\n",
    "        if month1 < month2:\n",
    "            return True\n",
    "        if month1 == month2:\n",
    "            return day1 < day2\n",
    "    return False\n",
    "\n",
    "\n",
    "def daysBetweenDates(year1, month1, day1, year2, month2, day2):\n",
    "    # Enter the solution here\n",
    "    days = 0\n",
    "    while dateIsBefore(year1, month1, day1, year2, month2, day2):\n",
    "        year1, month1, day1 = nextDay(year1, month1, day1)\n",
    "        days += 1\n",
    "    return days\n",
    "\n",
    "def testDaysBetweenDates():\n",
    "    # test same day\n",
    "    assert(daysBetweenDates(2017, 12, 30,\n",
    "                              2017, 12, 30) == 0)\n",
    "    # test adjacent days\n",
    "    assert(daysBetweenDates(2017, 12, 30, \n",
    "                              2017, 12, 31) == 1)\n",
    "    # test new year\n",
    "    assert(daysBetweenDates(2017, 12, 30, \n",
    "                              2018, 1,  1)  == 2)\n",
    "    # test full year difference\n",
    "    assert(daysBetweenDates(2012, 6, 29,\n",
    "                              2013, 6, 29)  == 365)\n",
    "    \n",
    "    print(\"Congratulations! Your daysBetweenDates\")\n",
    "    print(\"function is working correctly!\")\n",
    "\n",
    "# Given test cases\n",
    "testDaysBetweenDates()"
   ]
  },
  {
   "cell_type": "code",
   "execution_count": null,
   "metadata": {
    "collapsed": true
   },
   "outputs": [],
   "source": []
  }
 ],
 "metadata": {
  "kernelspec": {
   "display_name": "PyCharm (data-structures-and-algorithms-udacity)",
   "language": "python",
   "name": "pycharm-9b45c505"
  },
  "language_info": {
   "codemirror_mode": {
    "name": "ipython",
    "version": 3
   },
   "file_extension": ".py",
   "mimetype": "text/x-python",
   "name": "python",
   "nbconvert_exporter": "python",
   "pygments_lexer": "ipython3",
   "version": "3.8.2"
  }
 },
 "nbformat": 4,
 "nbformat_minor": 2
}